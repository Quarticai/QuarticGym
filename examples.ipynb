{
 "cells": [
  {
   "cell_type": "code",
   "execution_count": 4,
   "id": "0e9ba925",
   "metadata": {},
   "outputs": [],
   "source": [
    "import os"
   ]
  },
  {
   "cell_type": "markdown",
   "id": "4d76dc0a",
   "metadata": {},
   "source": [
    "# pensimpy"
   ]
  },
  {
   "cell_type": "code",
   "execution_count": 5,
   "id": "918cdf5c",
   "metadata": {},
   "outputs": [],
   "source": [
    "from pensimpy.examples.recipe import Recipe, RecipeCombo\n",
    "from pensimpy.data.constants import FS, FOIL, FG, PRES, DISCHARGE, WATER, PAA\n",
    "from pensimpy.data.constants import FS_DEFAULT_PROFILE, FOIL_DEFAULT_PROFILE, FG_DEFAULT_PROFILE, \\\n",
    "    PRESS_DEFAULT_PROFILE, DISCHARGE_DEFAULT_PROFILE, WATER_DEFAULT_PROFILE, PAA_DEFAULT_PROFILE\n",
    "from quarticgym.envs.pensimenv import PenSimEnvGym, PeniControlData, NUM_STEPS"
   ]
  },
  {
   "cell_type": "code",
   "execution_count": 10,
   "id": "31c1d0c5",
   "metadata": {},
   "outputs": [
    {
     "name": "stdout",
     "output_type": "stream",
     "text": [
      "Penicillin_Control_Challenge data correctly initialized.\n",
      "reward, total_reward: 0.05834041883349912 0.05834041883349912\n",
      "reward, total_reward: 2.7455784447631686 2586.295427653821\n",
      "your total reward is (by default, should be 2965.6227): 2965.6087902382847\n"
     ]
    }
   ],
   "source": [
    "# set up the default recipe\n",
    "recipe_dict = {FS: Recipe(FS_DEFAULT_PROFILE, FS),\n",
    "            FOIL: Recipe(FOIL_DEFAULT_PROFILE, FOIL),\n",
    "            FG: Recipe(FG_DEFAULT_PROFILE, FG),\n",
    "            PRES: Recipe(PRESS_DEFAULT_PROFILE, PRES),\n",
    "            DISCHARGE: Recipe(DISCHARGE_DEFAULT_PROFILE, DISCHARGE),\n",
    "            WATER: Recipe(WATER_DEFAULT_PROFILE, WATER),\n",
    "            PAA: Recipe(PAA_DEFAULT_PROFILE, PAA)}\n",
    "\n",
    "recipe_combo = RecipeCombo(recipe_dict=recipe_dict)\n",
    "# set up the environment\n",
    "env = PenSimEnvGym(recipe_combo=recipe_combo)\n",
    "state = env.reset()\n",
    "# load one batch of the sampled data\n",
    "load_just_a_file='quarticgym/datasets/pensimenv/random_batch_0.csv'\n",
    "dataset_obj = PeniControlData(load_just_a_file=load_just_a_file)\n",
    "if dataset_obj.file_list:\n",
    "    print('Penicillin_Control_Challenge data correctly initialized.')\n",
    "else:\n",
    "    raise ValueError(\"Penicillin_Control_Challenge data initialization failed.\")\n",
    "dataset = dataset_obj.get_dataset()\n",
    "# need to be set by dataset for normalization\n",
    "env.max_observations = dataset_obj.max_observations\n",
    "env.min_observations = dataset_obj.min_observations\n",
    "env.normalize = True\n",
    "# now, let's try to run for one epoch, use the actions cloned from a csv file. Note that the environment setup might be different.\n",
    "total_reward = 0.0\n",
    "for step in range(NUM_STEPS):\n",
    "    state, reward, done, info = env.step(dataset['actions'][step].tolist())\n",
    "    total_reward += reward\n",
    "    if step%1000 == 0:\n",
    "        print(\"reward, total_reward:\",reward, total_reward)\n",
    "print(\"your total reward is (by default, should be 2965.6227):\", total_reward)"
   ]
  },
  {
   "cell_type": "code",
   "execution_count": null,
   "id": "9db270d0",
   "metadata": {},
   "outputs": [],
   "source": []
  },
  {
   "cell_type": "code",
   "execution_count": null,
   "id": "be805fc2",
   "metadata": {},
   "outputs": [],
   "source": []
  }
 ],
 "metadata": {
  "kernelspec": {
   "display_name": "Python 3",
   "language": "python",
   "name": "python3"
  },
  "language_info": {
   "codemirror_mode": {
    "name": "ipython",
    "version": 3
   },
   "file_extension": ".py",
   "mimetype": "text/x-python",
   "name": "python",
   "nbconvert_exporter": "python",
   "pygments_lexer": "ipython3",
   "version": "3.8.10"
  }
 },
 "nbformat": 4,
 "nbformat_minor": 5
}
